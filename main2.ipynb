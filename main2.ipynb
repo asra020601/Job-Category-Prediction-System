{
 "cells": [
  {
   "cell_type": "markdown",
   "id": "062a5797",
   "metadata": {},
   "source": [
    "# Data Preparation"
   ]
  },
  {
   "cell_type": "code",
   "execution_count": 3,
   "id": "3ba15796",
   "metadata": {},
   "outputs": [
    {
     "data": {
      "text/html": [
       "<div>\n",
       "<style scoped>\n",
       "    .dataframe tbody tr th:only-of-type {\n",
       "        vertical-align: middle;\n",
       "    }\n",
       "\n",
       "    .dataframe tbody tr th {\n",
       "        vertical-align: top;\n",
       "    }\n",
       "\n",
       "    .dataframe thead th {\n",
       "        text-align: right;\n",
       "    }\n",
       "</style>\n",
       "<table border=\"1\" class=\"dataframe\">\n",
       "  <thead>\n",
       "    <tr style=\"text-align: right;\">\n",
       "      <th></th>\n",
       "      <th>Job Applicant Name</th>\n",
       "      <th>Age</th>\n",
       "      <th>Gender</th>\n",
       "      <th>Race</th>\n",
       "      <th>Ethnicity</th>\n",
       "      <th>Resume</th>\n",
       "      <th>Job Roles</th>\n",
       "      <th>Job Description</th>\n",
       "      <th>Best Match</th>\n",
       "    </tr>\n",
       "  </thead>\n",
       "  <tbody>\n",
       "    <tr>\n",
       "      <th>0</th>\n",
       "      <td>Daisuke Mori</td>\n",
       "      <td>29</td>\n",
       "      <td>Male</td>\n",
       "      <td>Mongoloid/Asian</td>\n",
       "      <td>Vietnamese</td>\n",
       "      <td>Proficient in Injury Prevention, Motivation, N...</td>\n",
       "      <td>Fitness Coach</td>\n",
       "      <td>A Fitness Coach is responsible for helping cl...</td>\n",
       "      <td>0</td>\n",
       "    </tr>\n",
       "    <tr>\n",
       "      <th>1</th>\n",
       "      <td>Taichi Shimizu</td>\n",
       "      <td>31</td>\n",
       "      <td>Male</td>\n",
       "      <td>Mongoloid/Asian</td>\n",
       "      <td>Filipino</td>\n",
       "      <td>Proficient in Healthcare, Pharmacology, Medica...</td>\n",
       "      <td>Physician</td>\n",
       "      <td>Diagnose and treat illnesses, prescribe medica...</td>\n",
       "      <td>0</td>\n",
       "    </tr>\n",
       "    <tr>\n",
       "      <th>2</th>\n",
       "      <td>Sarah Martin</td>\n",
       "      <td>46</td>\n",
       "      <td>Female</td>\n",
       "      <td>White/Caucasian</td>\n",
       "      <td>Dutch</td>\n",
       "      <td>Proficient in Forecasting, Financial Modelling...</td>\n",
       "      <td>Financial Analyst</td>\n",
       "      <td>As a Financial Analyst, you will be responsibl...</td>\n",
       "      <td>0</td>\n",
       "    </tr>\n",
       "    <tr>\n",
       "      <th>3</th>\n",
       "      <td>Keith Hughes</td>\n",
       "      <td>43</td>\n",
       "      <td>Male</td>\n",
       "      <td>Negroid/Black</td>\n",
       "      <td>Caribbean</td>\n",
       "      <td>Proficient in Budgeting, Supply Chain Optimiza...</td>\n",
       "      <td>Supply Chain Manager</td>\n",
       "      <td>A Supply Chain Manager oversees the entire sup...</td>\n",
       "      <td>1</td>\n",
       "    </tr>\n",
       "    <tr>\n",
       "      <th>4</th>\n",
       "      <td>James Davis</td>\n",
       "      <td>49</td>\n",
       "      <td>Male</td>\n",
       "      <td>White/Caucasian</td>\n",
       "      <td>English</td>\n",
       "      <td>Proficient in Logistics, Negotiation, Procurem...</td>\n",
       "      <td>Supply Chain Manager</td>\n",
       "      <td>A Supply Chain Manager oversees the entire sup...</td>\n",
       "      <td>1</td>\n",
       "    </tr>\n",
       "  </tbody>\n",
       "</table>\n",
       "</div>"
      ],
      "text/plain": [
       "  Job Applicant Name  Age  Gender             Race   Ethnicity  \\\n",
       "0       Daisuke Mori   29    Male  Mongoloid/Asian  Vietnamese   \n",
       "1     Taichi Shimizu   31    Male  Mongoloid/Asian    Filipino   \n",
       "2       Sarah Martin   46  Female  White/Caucasian       Dutch   \n",
       "3       Keith Hughes   43    Male    Negroid/Black   Caribbean   \n",
       "4        James Davis   49    Male  White/Caucasian     English   \n",
       "\n",
       "                                              Resume             Job Roles  \\\n",
       "0  Proficient in Injury Prevention, Motivation, N...         Fitness Coach   \n",
       "1  Proficient in Healthcare, Pharmacology, Medica...             Physician   \n",
       "2  Proficient in Forecasting, Financial Modelling...     Financial Analyst   \n",
       "3  Proficient in Budgeting, Supply Chain Optimiza...  Supply Chain Manager   \n",
       "4  Proficient in Logistics, Negotiation, Procurem...  Supply Chain Manager   \n",
       "\n",
       "                                     Job Description  Best Match  \n",
       "0   A Fitness Coach is responsible for helping cl...           0  \n",
       "1  Diagnose and treat illnesses, prescribe medica...           0  \n",
       "2  As a Financial Analyst, you will be responsibl...           0  \n",
       "3  A Supply Chain Manager oversees the entire sup...           1  \n",
       "4  A Supply Chain Manager oversees the entire sup...           1  "
      ]
     },
     "execution_count": 3,
     "metadata": {},
     "output_type": "execute_result"
    }
   ],
   "source": [
    "#import data3 csv, drop the columns of name and job description and keep only the rows where 'Best Match' is 1\n",
    "import pandas as pd  \n",
    "from sklearn.feature_extraction.text import CountVectorizer\n",
    "from sklearn.metrics.pairwise import cosine_similarity   \n",
    "data3 = pd.read_csv('data3.csv')\n",
    "\n",
    "data3.head(5)  # Display the first 5 rows of the filtered DataFrame"
   ]
  },
  {
   "cell_type": "markdown",
   "id": "2fd27b4e",
   "metadata": {},
   "source": [
    "### Unnecessary columns, like applicant names, are removed as they are irrelevant to the job matching process."
   ]
  },
  {
   "cell_type": "code",
   "execution_count": null,
   "id": "76d29af0",
   "metadata": {},
   "outputs": [],
   "source": [
    "data3 = data3.drop(columns='Job Applicant Name')"
   ]
  },
  {
   "cell_type": "markdown",
   "id": "a8851953",
   "metadata": {},
   "source": [
    "### We filter the dataset to include only resumes that are marked as a \"Best Match,\" ensuring our analysis focuses on high-quality examples."
   ]
  },
  {
   "cell_type": "code",
   "execution_count": null,
   "id": "954a9e14",
   "metadata": {},
   "outputs": [],
   "source": [
    "data3 = data3[data3['Best Match'] == 1]  # Keep only rows where 'Best Match' is 1\n"
   ]
  },
  {
   "cell_type": "markdown",
   "id": "67552bfe",
   "metadata": {},
   "source": [
    "# Job Category Generation"
   ]
  },
  {
   "cell_type": "markdown",
   "id": "ba5eabd9",
   "metadata": {},
   "source": [
    "A predefined list of broad job categories is established to serve as our target labels."
   ]
  },
  {
   "cell_type": "code",
   "execution_count": 4,
   "id": "d10e85e4",
   "metadata": {},
   "outputs": [],
   "source": [
    "job_categories = [\"Software Engineering / IT\",\"Data Science / AI / ML\",\"Marketing / Advertising / PR\",\"Sales / Business Development\",\"Finance / Accounting / Auditing\",\"Human Resources (HR) / Recruiting\",\"Healthcare / Medical\",\"Education / Teaching / Training\",\"Creative / Design / UX / UI\",\"Product Management\",\"Project / Program Management\",\"Customer Service / Support\",\"Operations / Supply Chain / Logistics\",\"Legal / Compliance / Regulatory\",\"Administration / Office Support\",\"Manufacturing / Engineering / Construction\",\"Retail / E-commerce / Buying / Merchandising\",\"Hospitality / Food / Travel\",\"Real Estate / Property Management\",\"Energy / Environment / Sustainability\",\"Consulting / Strategy\",\"Research / Science / R&D\",\"Others / Uncategorized\"]\n"
   ]
  },
  {
   "cell_type": "markdown",
   "id": "fed1df4e",
   "metadata": {},
   "source": [
    " We utilize a pre-trained SentenceTransformer model (specifically 'all-MiniLM-L6-v2'). This model is crucial for converting text into numerical representations (embeddings) that capture semantic meaning. The core idea is to generate job categories based on the content of the resume descriptions, rather than predicting specific job roles directly. This approach provides more generalized and useful categories."
   ]
  },
  {
   "cell_type": "code",
   "execution_count": 5,
   "id": "ae86f5b6",
   "metadata": {},
   "outputs": [
    {
     "name": "stderr",
     "output_type": "stream",
     "text": [
      "c:\\Users\\asrah\\Desktop\\ass1\\.venv\\Lib\\site-packages\\tqdm\\auto.py:21: TqdmWarning: IProgress not found. Please update jupyter and ipywidgets. See https://ipywidgets.readthedocs.io/en/stable/user_install.html\n",
      "  from .autonotebook import tqdm as notebook_tqdm\n"
     ]
    }
   ],
   "source": [
    "import torch\n",
    "\n",
    "from sentence_transformers import SentenceTransformer, util\n",
    "\n",
    "model = SentenceTransformer('all-MiniLM-L6-v2')  # Light, fast, and good\n",
    "\n"
   ]
  },
  {
   "cell_type": "markdown",
   "id": "18dacf9a",
   "metadata": {},
   "source": [
    " Each of the predefined job categories is converted into a numerical embedding using the loaded SentenceTransformer model. This allows us to compare them mathematically with resume embeddings."
   ]
  },
  {
   "cell_type": "code",
   "execution_count": 6,
   "id": "e17cf1d4",
   "metadata": {},
   "outputs": [],
   "source": [
    "category_embeddings = model.encode(job_categories, convert_to_tensor=True)"
   ]
  },
  {
   "cell_type": "markdown",
   "id": "2ebfb325",
   "metadata": {},
   "source": [
    "# Skill Recognition and Categorization"
   ]
  },
  {
   "cell_type": "markdown",
   "id": "3ab063fe",
   "metadata": {},
   "source": [
    "Categorization Function: A function is developed to process a given resume's skills.\n",
    "\n",
    "It parses the comma-separated skill string into a list of individual skills.\n",
    "\n",
    "It then encodes these skills into numerical embeddings using the SentenceTransformer.\n",
    "\n",
    "The average of these skill embeddings is computed to represent the overall skill profile of the resume.\n",
    "\n",
    "Cosine Similarity for Matching: The cosine similarity is calculated between the resume's skill embedding and the embeddings of all predefined job categories. Cosine similarity measures the angle between two vectors, indicating how similar their directions are. A higher cosine similarity score indicates a stronger match.\n",
    "\n",
    "The job category with the highest cosine similarity score is identified as the most probable match for the resume.\n",
    "\n",
    "Synthetic Job Category Generation: This process effectively \"synthetically\" generates a job category for each resume by matching its skills to the most relevant predefined category.\n",
    "\n",
    "Applying Categories to Data: The newly predicted job categories are then added as a new column to our dataset."
   ]
  },
  {
   "cell_type": "code",
   "execution_count": 7,
   "id": "e6ce497a",
   "metadata": {},
   "outputs": [
    {
     "name": "stdout",
     "output_type": "stream",
     "text": [
      "Predicted category: Manufacturing / Engineering / Construction\n"
     ]
    }
   ],
   "source": [
    "def categorize_with_bert_debug(skills_string):\n",
    "   \n",
    "\n",
    "    # Convert comma-separated string to list\n",
    "    skills_list = [skill.strip() for skill in skills_string.split(',') if skill.strip()]\n",
    "    \n",
    "\n",
    "    # Handle empty or invalid input\n",
    "    if not skills_list:\n",
    "        print(\"No valid skills found.\")\n",
    "        return \"Others\"\n",
    "\n",
    "    # Encode and average embeddings\n",
    "    skill_embeddings = model.encode(skills_list, convert_to_tensor=True)\n",
    "    skill_embedding = torch.mean(skill_embeddings, dim=0).unsqueeze(0)  # <-- Fix here\n",
    "\n",
    "   \n",
    "\n",
    "    # Compute similarity\n",
    "    similarities = util.cos_sim(skill_embedding, category_embeddings)\n",
    "  \n",
    "\n",
    "    best_match_idx = similarities.argmax().item()\n",
    "\n",
    "    return job_categories[best_match_idx]\n",
    "result = categorize_with_bert_debug(data3['Resume'].iloc[2])\n",
    "print(\"Predicted category:\", result)\n"
   ]
  },
  {
   "cell_type": "code",
   "execution_count": 9,
   "id": "38a35f2d",
   "metadata": {},
   "outputs": [],
   "source": [
    "data3['job_category'] = data3['Resume'].apply(categorize_with_bert_debug)\n"
   ]
  },
  {
   "cell_type": "code",
   "execution_count": 8,
   "id": "87677afe",
   "metadata": {},
   "outputs": [],
   "source": [
    "data3 = pd.read_csv('enhanced_resumes.csv')"
   ]
  },
  {
   "cell_type": "markdown",
   "id": "9d06cafd",
   "metadata": {},
   "source": [
    "# Top Job Role Prediction"
   ]
  },
  {
   "cell_type": "markdown",
   "id": "9b601310",
   "metadata": {},
   "source": [
    "Importing CountVectorizer: We import CountVectorizer from sklearn.feature_extraction.text. This tool converts a collection of text documents into a matrix of token counts, effectively representing text as numerical data.\n",
    "\n",
    "Fitting CountVectorizer: The CountVectorizer is fitted to the 'Resume' column of our filtered dataset. This step builds a vocabulary of all unique words in the resumes and prepares the vectorizer to transform new text.\n",
    "\n",
    "Calculating Cosine Similarity for Resumes: Cosine similarity is then applied to the vectorized resumes. This creates a similarity matrix where each entry represents the similarity between two resumes based on their word counts.\n",
    "\n",
    "Prediction Function: A function is created to:\n",
    "\n",
    "Take a user's input (e.g., a resume or a set of skills).\n",
    "\n",
    "Vectorize this input using the previously fitted CountVectorizer.\n",
    "\n",
    "Calculate the similarity score between the user's input vector and all existing resume vectors using the pre-computed cosine similarity matrix.\n",
    "\n",
    "Identify the top five unique job categories and their corresponding job descriptions that best match the user's input, based on these similarity scores.\n",
    "\n",
    "The results are then sorted by their ranking (similarity score)."
   ]
  },
  {
   "cell_type": "code",
   "execution_count": 9,
   "id": "7556ceae",
   "metadata": {},
   "outputs": [],
   "source": [
    "cv = CountVectorizer(stop_words='english')\n",
    "count_matrix = cv.fit_transform(data3[\"Resume\"])"
   ]
  },
  {
   "cell_type": "code",
   "execution_count": 10,
   "id": "113702ce",
   "metadata": {},
   "outputs": [
    {
     "data": {
      "text/plain": [
       "array([[1.        , 0.786991  , 0.64684316, ..., 0.65673607, 0.52363494,\n",
       "        0.52363494],\n",
       "       [0.786991  , 1.        , 0.50097943, ..., 0.66759195, 0.53229065,\n",
       "        0.53229065],\n",
       "       [0.64684316, 0.50097943, 1.        , ..., 0.52807869, 0.5       ,\n",
       "        0.52941176],\n",
       "       ...,\n",
       "       [0.65673607, 0.66759195, 0.52807869, ..., 1.        , 0.62709344,\n",
       "        0.56108361],\n",
       "       [0.52363494, 0.53229065, 0.5       , ..., 0.62709344, 1.        ,\n",
       "        0.52941176],\n",
       "       [0.52363494, 0.53229065, 0.52941176, ..., 0.56108361, 0.52941176,\n",
       "        1.        ]], shape=(4850, 4850))"
      ]
     },
     "execution_count": 10,
     "metadata": {},
     "output_type": "execute_result"
    }
   ],
   "source": [
    "cosine_sim = cosine_similarity(count_matrix)\n",
    "cosine_sim"
   ]
  },
  {
   "cell_type": "code",
   "execution_count": 23,
   "id": "f1495a27",
   "metadata": {},
   "outputs": [],
   "source": [
    "from sklearn.feature_extraction.text import CountVectorizer\n",
    "from sklearn.metrics.pairwise import cosine_similarity\n",
    "\n",
    "def get_unique_job_categories(user_input):\n",
    "\n",
    "    # Vectorize user input\n",
    "    user_vector = cv.transform([user_input])\n",
    "\n",
    "    # Compute cosine similarity between user and all resumes\n",
    "    similarities = cosine_similarity(user_vector, count_matrix).flatten()\n",
    "\n",
    "    # Sort indices by similarity\n",
    "    sorted_indices = similarities.argsort()[::-1]  # descending\n",
    "\n",
    "    # Collect top 5 unique job categories\n",
    "    seen_categories = set()\n",
    "    seen_description=set()\n",
    "    results = []\n",
    "\n",
    "    for idx in sorted_indices:\n",
    "        category = data3.iloc[idx]['job_category']\n",
    "        description = data3.iloc[idx]['Job Description']\n",
    "\n",
    "        if category not in seen_categories and description not in seen_description :\n",
    "            seen_categories.add(category)\n",
    "            seen_description.add(description)\n",
    "            results.append((category, description))\n",
    "\n",
    "        if len(results) == 5:\n",
    "            break\n",
    "\n",
    "    return results\n"
   ]
  },
  {
   "cell_type": "markdown",
   "id": "9b26978e",
   "metadata": {},
   "source": [
    "## Testing and Validation"
   ]
  },
  {
   "cell_type": "code",
   "execution_count": 24,
   "id": "5382802c",
   "metadata": {},
   "outputs": [
    {
     "data": {
      "text/plain": [
       "[('Data Science / AI / ML',\n",
       "  'As a Machine Learning Engineer, you will design and implement machine learning algorithms that allow systems to learn from data and improve over time. This role requires strong programming skills, an understanding of statistical modeling, and the ability to work with large datasets. You will collaborate with data scientists and software engineers to develop predictive models and automate decision-making processes. Machine Learning Engineers play a key role in developing AI systems that have applications in industries ranging from finance to healthcare, making your work essential for driving technological innovation.'),\n",
       " ('Project / Program Management',\n",
       "  'As a Business Analyst, you will be responsible for assessing business processes and recommending strategies for improving efficiency and profitability. You will collect and analyze data, identify trends, and work with various departments to implement solutions that drive business success. This role requires a strong understanding of business operations, as well as analytical skills to interpret complex data and make data-driven decisions. You will also collaborate with key stakeholders to define business requirements and ensure that projects align with organizational goals. Critical thinking and problem-solving are essential for this role.'),\n",
       " ('Product Management',\n",
       "  'A Product Manager oversees the development and lifecycle of products from concept to launch. You will be responsible for gathering market research, defining product features, and working with cross-functional teams to ensure that products meet the needs of customers and stakeholders. The role requires strategic thinking, excellent communication skills, and the ability to prioritize tasks effectively. You will lead teams of designers, developers, and marketers to ensure products are developed on time, within budget, and align with the company’s objectives. Product Managers play a key role in driving the success of new product launches and maintaining the long-term viability of existing products.'),\n",
       " ('Software Engineering / IT',\n",
       "  'A Systems Analyst evaluates and improves an organization’s IT systems, ensuring they operate efficiently and meet business needs. You will assess system requirements, design solutions, and work with developers to implement software applications. The role requires a strong understanding of business processes, system design, and programming. Systems Analysts collaborate with stakeholders to define system specifications and ensure that the technology infrastructure aligns with business goals. You will play a key role in optimizing system performance and improving the overall efficiency of an organization’s IT operations.'),\n",
       " ('Manufacturing / Engineering / Construction',\n",
       "  'The Construction Manager is responsible for overseeing large-scale construction projects, from planning and budgeting to supervising teams and ensuring that projects meet strict deadlines. You will be leading diverse teams, working in dynamic and high-pressure environments, where your decision-making abilities and leadership skills are tested daily. The role demands a hands-on approach, as you will be directly involved in solving problems, managing complex logistics, and ensuring that construction standards are met. A strong background in engineering or project management is essential, with a focus on optimizing construction processes and delivering high-quality results. This role is ideal for those who excel in a fast-paced, results-oriented environment.')]"
      ]
     },
     "execution_count": 24,
     "metadata": {},
     "output_type": "execute_result"
    }
   ],
   "source": [
    "user_input = \"Python, Machine Learning, Data Analysis, SQL, Cloud Computing, Software Development, Project Management, Team Leadership\"\n",
    "output = get_unique_job_categories(user_input)\n",
    "output"
   ]
  }
 ],
 "metadata": {
  "kernelspec": {
   "display_name": ".venv",
   "language": "python",
   "name": "python3"
  },
  "language_info": {
   "codemirror_mode": {
    "name": "ipython",
    "version": 3
   },
   "file_extension": ".py",
   "mimetype": "text/x-python",
   "name": "python",
   "nbconvert_exporter": "python",
   "pygments_lexer": "ipython3",
   "version": "3.11.9"
  }
 },
 "nbformat": 4,
 "nbformat_minor": 5
}
